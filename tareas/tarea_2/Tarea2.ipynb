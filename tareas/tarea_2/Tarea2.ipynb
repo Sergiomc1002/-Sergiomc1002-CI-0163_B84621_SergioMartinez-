{
 "cells": [
  {
   "cell_type": "markdown",
   "metadata": {},
   "source": [
    "# CI-0163 - Análisis de Grandes Volúmenes de Datos \n",
    "# Sergio Martínez Calvo B84621\n",
    "# Tarea 2\n",
    "* * * "
   ]
  },
  {
   "cell_type": "markdown",
   "metadata": {},
   "source": [
    "# Problema\n",
    "Para esta tarea se eligió un dataset con informacion de los pasajeros abordo del Titanic, contiene datos sobre nombre, edad, número de tiquete, clase de tiquete, etc. Se busca generar un modelo clasificador para predecir si un pasajero sobrevivió o no.\n",
    "\n",
    "Dataset escogido:  Titanic - Machine Learning from Disaster\n",
    "\n",
    "https://www.kaggle.com/c/titanic/data?select=train.csv\n",
    "\n",
    "Dataset procesado: Inicialmente se realizará un análisis exploratorio, preprocesamiento y transformación de datos con la herramienta openRefine por su facilidad para visualizar gráficamente el set de datos, encontrar y corregir errores fácilmente. Posteriormente se usará la librería de Python scikit-learn para generar un clasificador usando los algoritmos de random forest y extra trees, sus resultados serán evaluados con cross-validation para encontrar métricas fiables sobre los modelos y se realizará tuning de parametros para ajustarlos con mayor precisión. Finalmente se discutirá sobre los resultados obtenidos con los modelos antes y despues de su ajuste de hiperparámetros.\n",
    "* * * "
   ]
  },
  {
   "cell_type": "markdown",
   "metadata": {},
   "source": [
    "# Análisis Exploratorio\n",
    "\n",
    "Para el análisis exploratorio primero se desplegarán estádisticas sobre el dataset para entender los tipos de sus atributos y sus rangos. \n",
    "\n",
    "* * *"
   ]
  },
  {
   "cell_type": "code",
   "execution_count": 1,
   "metadata": {},
   "outputs": [
    {
     "data": {
      "text/html": [
       "<div>\n",
       "<style scoped>\n",
       "    .dataframe tbody tr th:only-of-type {\n",
       "        vertical-align: middle;\n",
       "    }\n",
       "\n",
       "    .dataframe tbody tr th {\n",
       "        vertical-align: top;\n",
       "    }\n",
       "\n",
       "    .dataframe thead th {\n",
       "        text-align: right;\n",
       "    }\n",
       "</style>\n",
       "<table border=\"1\" class=\"dataframe\">\n",
       "  <thead>\n",
       "    <tr style=\"text-align: right;\">\n",
       "      <th></th>\n",
       "      <th>Survived</th>\n",
       "      <th>Pclass</th>\n",
       "      <th>Age</th>\n",
       "      <th>SibSp</th>\n",
       "      <th>Parch</th>\n",
       "      <th>Fare</th>\n",
       "    </tr>\n",
       "  </thead>\n",
       "  <tbody>\n",
       "    <tr>\n",
       "      <th>count</th>\n",
       "      <td>891.000000</td>\n",
       "      <td>891.000000</td>\n",
       "      <td>714.000000</td>\n",
       "      <td>891.000000</td>\n",
       "      <td>891.000000</td>\n",
       "      <td>891.000000</td>\n",
       "    </tr>\n",
       "    <tr>\n",
       "      <th>mean</th>\n",
       "      <td>0.383838</td>\n",
       "      <td>2.308642</td>\n",
       "      <td>29.699118</td>\n",
       "      <td>0.523008</td>\n",
       "      <td>0.381594</td>\n",
       "      <td>32.204208</td>\n",
       "    </tr>\n",
       "    <tr>\n",
       "      <th>std</th>\n",
       "      <td>0.486592</td>\n",
       "      <td>0.836071</td>\n",
       "      <td>14.526497</td>\n",
       "      <td>1.102743</td>\n",
       "      <td>0.806057</td>\n",
       "      <td>49.693429</td>\n",
       "    </tr>\n",
       "    <tr>\n",
       "      <th>min</th>\n",
       "      <td>0.000000</td>\n",
       "      <td>1.000000</td>\n",
       "      <td>0.420000</td>\n",
       "      <td>0.000000</td>\n",
       "      <td>0.000000</td>\n",
       "      <td>0.000000</td>\n",
       "    </tr>\n",
       "    <tr>\n",
       "      <th>25%</th>\n",
       "      <td>0.000000</td>\n",
       "      <td>2.000000</td>\n",
       "      <td>20.125000</td>\n",
       "      <td>0.000000</td>\n",
       "      <td>0.000000</td>\n",
       "      <td>7.910400</td>\n",
       "    </tr>\n",
       "    <tr>\n",
       "      <th>50%</th>\n",
       "      <td>0.000000</td>\n",
       "      <td>3.000000</td>\n",
       "      <td>28.000000</td>\n",
       "      <td>0.000000</td>\n",
       "      <td>0.000000</td>\n",
       "      <td>14.454200</td>\n",
       "    </tr>\n",
       "    <tr>\n",
       "      <th>75%</th>\n",
       "      <td>1.000000</td>\n",
       "      <td>3.000000</td>\n",
       "      <td>38.000000</td>\n",
       "      <td>1.000000</td>\n",
       "      <td>0.000000</td>\n",
       "      <td>31.000000</td>\n",
       "    </tr>\n",
       "    <tr>\n",
       "      <th>max</th>\n",
       "      <td>1.000000</td>\n",
       "      <td>3.000000</td>\n",
       "      <td>80.000000</td>\n",
       "      <td>8.000000</td>\n",
       "      <td>6.000000</td>\n",
       "      <td>512.329200</td>\n",
       "    </tr>\n",
       "  </tbody>\n",
       "</table>\n",
       "</div>"
      ],
      "text/plain": [
       "         Survived      Pclass         Age       SibSp       Parch        Fare\n",
       "count  891.000000  891.000000  714.000000  891.000000  891.000000  891.000000\n",
       "mean     0.383838    2.308642   29.699118    0.523008    0.381594   32.204208\n",
       "std      0.486592    0.836071   14.526497    1.102743    0.806057   49.693429\n",
       "min      0.000000    1.000000    0.420000    0.000000    0.000000    0.000000\n",
       "25%      0.000000    2.000000   20.125000    0.000000    0.000000    7.910400\n",
       "50%      0.000000    3.000000   28.000000    0.000000    0.000000   14.454200\n",
       "75%      1.000000    3.000000   38.000000    1.000000    0.000000   31.000000\n",
       "max      1.000000    3.000000   80.000000    8.000000    6.000000  512.329200"
      ]
     },
     "execution_count": 1,
     "metadata": {},
     "output_type": "execute_result"
    }
   ],
   "source": [
    "import pandas as pd\n",
    "ds = pd.read_csv('train.csv', sep = ',', index_col=0)\n",
    "ds.describe()"
   ]
  },
  {
   "cell_type": "markdown",
   "metadata": {},
   "source": [
    "Podemos ver del atributo Survived, el cual es booleano, que el promedio de supervivencia fue de 38%. Esto se nota también viendo el valor de la mediana y el tercer cuartil. Esta es la variable de respuesta del modelo a desarrollar por lo que es de importancia.\n",
    "\n",
    "Ahora se desplegara graficos sobre atributos como el precio pagado por tiquete y la clase del pasajero para entender mejor su distribución."
   ]
  },
  {
   "cell_type": "code",
   "execution_count": 2,
   "metadata": {},
   "outputs": [
    {
     "data": {
      "image/png": "[encoded data removed]",
      "text/plain": [
       "<Figure size 432x288 with 1 Axes>"
      ]
     },
     "metadata": {
      "needs_background": "light"
     },
     "output_type": "display_data"
    }
   ],
   "source": [
    "import matplotlib.pyplot as plt\n",
    "plt.hist(ds[\"Fare\"], bins = 25, label = 'Distribución de precio de tiquete')\n",
    "plt.legend()\n",
    "plt.show()"
   ]
  },
  {
   "cell_type": "markdown",
   "metadata": {},
   "source": [
    "Se puede ver que la gran mayoría de los pasajeros pagaron menos de $50 por su tiquete, por lo que se podría pensar que gran parte de las observaciones pertenecen a la tercera clase.\n",
    "\n",
    "Ahora se estudiará la distribucion de pasajeros por clase."
   ]
  },
  {
   "cell_type": "code",
   "execution_count": 3,
   "metadata": {},
   "outputs": [
    {
     "data": {
      "image/png": "[encoded data removed]",
      "text/plain": [
       "<Figure size 504x576 with 1 Axes>"
      ]
     },
     "metadata": {},
     "output_type": "display_data"
    }
   ],
   "source": [
    "fig = plt.figure(figsize =(7, 8))\n",
    "plt.pie(ds['Pclass'].value_counts(), labels = ['Tercera Clase', 'Primera Clase', 'Segunda Clase'],autopct='%1.2f%%', startangle=270)\n",
    "plt.legend(title = \"Clase de tiquete por pasajero:\")\n",
    "plt.show()"
   ]
  },
  {
   "cell_type": "markdown",
   "metadata": {},
   "source": [
    "Se puede ver que hay una mayoría en la tercera clase como es esperado. Sin embargo, siguiendo el hilo de pensamiento de precio por tiquete deberia haber menos pasajeros de primera clase que de segunda, interesantemente este no es el caso, parece no haber una relacion clara entre clase y precio por tiquete.\n",
    "* * *"
   ]
  },
  {
   "cell_type": "markdown",
   "metadata": {},
   "source": [
    "# Preprocesamiento de Datos\n",
    "En este apartado se cargará el dataset mencionado en el inicio del documento en openRefine para encontrar errores como campos vacíos, valores \n",
    "incorrectos y realizar correciones sobre ellos.\n",
    "\n",
    "Se adjunta un archivo .json en el cual se aprecian los cambios aplicados al dataset, en grandes rasgos se realizó:\n",
    "    \n",
    "    \n",
    "* Se completó los registros faltantes en la columna edad con la media ya que no tenemos suficientes registros como para eliminar las observaciones con información faltante. Además sabemos que la edad puede ser un factor bastante determinante en la supervivencia y al tener valores faltantes es probable que los algoritmos basados en arboles decidan que esta variable no es muy importante por sus valores faltantes.\n",
    "\n",
    "* Se completó los registros faltantes en la columna precio de tiquete ya que no tenemos suficientes registros como para eliminar las observaciones, se completó con la media de precio, sin tomar en consideración el tipo de tiquete como factor de bloquo ya que se encontró tiquetes de las tres clases en este rango de precio.\n",
    "\n",
    "* Se encontró muy pocos valores faltantes en la columna Embarked, por lo que se eliminaron los dos registros con este problema dado que esto afecta muy sutilmente el dataset y la implementación de RandomForest de scikit-learn no permite valores faltantes.\n",
    "\n",
    "Como resultado de estas operaciones no se alteró los estadisticos de estas columnas y se disminuyó el ruido del dataset.\n",
    "\n",
    "* * *"
   ]
  },
  {
   "cell_type": "markdown",
   "metadata": {},
   "source": [
    "# Transformación de datos, selección y extracción de atributos\n",
    "Un apartado que muestre la justificación y uso de al menos dos técnicas de transformación de datos, selección y extracción de atributos y su interpretación sobre el resultado obtenido al aplicar dichas técnicas. \n",
    "\n",
    "En este apartado se continúa con el uso de openRefine para tranformación de datos. Se busca hacer cambios que permitan generar un módelo mas simple de \n",
    "interpretar y con un mejor rendimiento a la hora de entrenarse.\n",
    "\n",
    "Se adjunta un archivo .json en el cual se aprecian las transformaciones aplicadas al dataset, en grandes rasgos se realizó:\n",
    "\n",
    "* Se creó el atributo binario hasCabin en base a si el registro muestra un valor nulo o no en el campo Cabin.\n",
    "* Se redujo la dimensionalidad del dataset eliminando atributos con poco valor informativo como el PassengerID, Name, Ticket y Cabin.\n",
    "* Se tranformó el contenido de las columnas Sex y Embarked a valores numéricos de modo similar la librería _label_enconding()_ de scikit-learn. \n",
    "\n",
    "Los valores fueron transformados del siguiente modo:\n",
    "### Sex:\n",
    "* Male = 0 \n",
    "* Female = 1\n",
    "\n",
    "### Embarked:\n",
    "* C = 0\n",
    "* Q = 1\n",
    "* S = 2\n",
    "\n",
    "Como resultado de estas operaciones se disminuyó la dimensionalidad del dataset y se creó atributos con valor predictivo lo cual ayuda al entrenamiento del modelo.\n",
    "* * *"
   ]
  },
  {
   "cell_type": "markdown",
   "metadata": {},
   "source": [
    "# Generación de Modelos\n",
    "Un apartado que muestre el uso y los resultados de aplicar al menos dos algoritmos de aprendizaje de máquina para resolver el problema planteado.\n",
    "\n",
    "En este apartado se implementarán los algoritmos RandomForestClassifier y ExtraTreesClassifier de la librería de python sklearn para generar modelos\n",
    "que predigan si un pasajero sobrevive o no el accidente del Titanic basado en los atributos que se limpiaron y transformaron en los pasos previos.\n",
    "\n",
    "* * *"
   ]
  },
  {
   "cell_type": "markdown",
   "metadata": {},
   "source": [
    "# Lectura del dataset\n",
    "Para implementar estos algoritmos se cargará el dataset pre-procesado que se dividirá en set de entrenamiento y test y se usarán para ambos modelos."
   ]
  },
  {
   "cell_type": "code",
   "execution_count": 8,
   "metadata": {},
   "outputs": [],
   "source": [
    "from sklearn.model_selection import train_test_split\n",
    "\n",
    "dataset = pd.read_csv('Titanic.csv', sep = ',')\n",
    "inputColumns = dataset.drop(columns=['Survived'])\n",
    "outputColumn = dataset['Survived']\n",
    "# split into train and test sets\n",
    "X_train, X_test, Y_train, Y_test = train_test_split(inputColumns, outputColumn, test_size=0.2, random_state=1)"
   ]
  },
  {
   "cell_type": "markdown",
   "metadata": {},
   "source": [
    "# Random Forest\n",
    "Ahora se implementará el RandomForestClassifier como se ve a continuación:"
   ]
  },
  {
   "cell_type": "code",
   "execution_count": 9,
   "metadata": {},
   "outputs": [
    {
     "name": "stdout",
     "output_type": "stream",
     "text": [
      "Predicted Class: 0\n"
     ]
    }
   ],
   "source": [
    "from sklearn.ensemble import RandomForestClassifier\n",
    "# define the model\n",
    "model = RandomForestClassifier()\n",
    "# fit the model on the whole dataset\n",
    "model.fit(X_train, Y_train)\n",
    "# predict a single observation\n",
    "row = [list(X_train.loc[0])]\n",
    "predictedClass = model.predict(row)\n",
    "print('Predicted Class: %d' % predictedClass[0])"
   ]
  },
  {
   "cell_type": "markdown",
   "metadata": {},
   "source": [
    "\n",
    "#  Extra Trees\n",
    "Se puede ver que el clasificador funciona con algún grado de precisión, que verificaremos más adelante. \n",
    "Ahora se procede a implementar el ExtraTreesClassfier como se ve a continuación:"
   ]
  },
  {
   "cell_type": "code",
   "execution_count": 10,
   "metadata": {},
   "outputs": [
    {
     "name": "stdout",
     "output_type": "stream",
     "text": [
      "Predicted Class: 0\n"
     ]
    }
   ],
   "source": [
    "from sklearn.ensemble import ExtraTreesClassifier\n",
    "# define the model\n",
    "model = ExtraTreesClassifier()\n",
    "# fit the model on the whole dataset\n",
    "model.fit(X_train, Y_train)\n",
    "\n",
    "# predict a single observation\n",
    "row = [list(X_train.loc[0])]\n",
    "predictedClass = model.predict(row)\n",
    "print('Predicted Class: %d' % predictedClass[0])"
   ]
  },
  {
   "cell_type": "markdown",
   "metadata": {},
   "source": [
    "Se aprecia que el clasificador generado por ExtraTrees tambíen funciona, y su predicción es congruente con el modelo generado por RandomForest, a continuación se procede a evaluar la precisión de los modelos generados.\n",
    "* * *"
   ]
  },
  {
   "cell_type": "markdown",
   "metadata": {},
   "source": [
    "# Evaluación y tuning de modelos\n",
    "\n",
    "Un apartado que muestre la justificación y el uso de técnicas de evaluación de modelos (e.g. k-fold cross validation, selección de parámetros del modelo, nested cross validation) NOTA: No intente hacer una búsqueda exhaustiva de parámetros. Pero sí debe probar con varios parámetros y guardar los resultados parciales para justificar la elección de los parámetros que le general un mejor desempeño.\n",
    "\n",
    "Para la evaluación de los modelos generados se usará la técnica de k-fold cross validation pues se adapta bien a la naturaleza del dataset donde hay suficientes\n",
    "observaciones para generar subsets significativos y no hay registros fuertemente relacionados que requieran un método diferente."
   ]
  },
  {
   "cell_type": "code",
   "execution_count": 11,
   "metadata": {},
   "outputs": [],
   "source": [
    "from numpy import mean\n",
    "from numpy import std\n",
    "from sklearn.model_selection import cross_val_score, RepeatedStratifiedKFold, KFold, RandomizedSearchCV"
   ]
  },
  {
   "cell_type": "markdown",
   "metadata": {},
   "source": [
    "#  Random Forest"
   ]
  },
  {
   "cell_type": "code",
   "execution_count": 12,
   "metadata": {},
   "outputs": [
    {
     "name": "stdout",
     "output_type": "stream",
     "text": [
      "Accuracy: 0.809 (0.097)\n"
     ]
    }
   ],
   "source": [
    "# define the model\n",
    "model = RandomForestClassifier()\n",
    "# evaluate the model\n",
    "cv = RepeatedStratifiedKFold(n_splits=10, n_repeats=3, random_state=1)\n",
    "n_scores = cross_val_score(model, X_test, Y_test, scoring='accuracy', cv=cv, n_jobs=-1, error_score='raise')\n",
    "# report performance\n",
    "print('Accuracy: %.3f (%.3f)' % (mean(n_scores), std(n_scores)))"
   ]
  },
  {
   "cell_type": "markdown",
   "metadata": {},
   "source": [
    "Se puede ver que el clasificador tiene una precisión aceptable que se intentará mejorar ajustando algunos hiperparámetros, para esto se explorará con varias combinaciones de hiperparámetros usando la técnica de RandomizedSearchCV la cual nos devuelve el modelo entrenado con resultados más prometedores. "
   ]
  },
  {
   "cell_type": "code",
   "execution_count": 13,
   "metadata": {},
   "outputs": [
    {
     "name": "stdout",
     "output_type": "stream",
     "text": [
      "Best Score: 0.8162363067292643\n",
      "Best Hyperparameters: {'max_features': 3, 'max_samples': 0.3965807272960261, 'n_estimators': 750}\n"
     ]
    }
   ],
   "source": [
    "from scipy.stats import uniform\n",
    "import numpy as np\n",
    "\n",
    "# define the model\n",
    "model = RandomForestClassifier()\n",
    "\n",
    "# define evaluation\n",
    "cv = RepeatedStratifiedKFold(n_splits=10, n_repeats=3, random_state=1)\n",
    "\n",
    "# specify parameters and distributions to sample from\n",
    "space = dict(max_samples=uniform(0, 1),\n",
    "              max_features=[3,4,5,6,7,8],\n",
    "              n_estimators=[10,50,100,500,750])\n",
    "\n",
    "# define search\n",
    "search = RandomizedSearchCV(model, space, n_iter=10, scoring='accuracy', n_jobs=-1, cv=cv, random_state=1)\n",
    "\n",
    "# execute search\n",
    "result = search.fit(X_train, Y_train)\n",
    "# summarize result\n",
    "print('Best Score: %s' % result.best_score_)\n",
    "print('Best Hyperparameters: %s' % result.best_params_)"
   ]
  },
  {
   "cell_type": "markdown",
   "metadata": {},
   "source": [
    "# Extra Trees"
   ]
  },
  {
   "cell_type": "code",
   "execution_count": 14,
   "metadata": {},
   "outputs": [
    {
     "name": "stdout",
     "output_type": "stream",
     "text": [
      "Accuracy: 0.798 (0.043)\n"
     ]
    }
   ],
   "source": [
    "  # define the model\n",
    "model = ExtraTreesClassifier()\n",
    "# evaluate the model\n",
    "cv = RepeatedStratifiedKFold(n_splits=10, n_repeats=3, random_state=1)\n",
    "n_scores = cross_val_score(model, inputColumns, outputColumn, scoring='accuracy', cv=cv, n_jobs=-1, error_score='raise')\n",
    "# report performance\n",
    "print('Accuracy: %.3f (%.3f)' % (mean(n_scores), std(n_scores)))"
   ]
  },
  {
   "cell_type": "markdown",
   "metadata": {},
   "source": [
    "Se puede ver que el clasificador tiene una precisión aceptable que se intentará mejorar ajustando algunos hiperparámetros,, para esto se explorará con varias combinaciones de hiperparámetros usando la técnica de RandomizedSearchCV la cual nos devuelve el modelo entrenado con resultados más prometedores, del mismo modo que con Random Forest."
   ]
  },
  {
   "cell_type": "code",
   "execution_count": 15,
   "metadata": {},
   "outputs": [
    {
     "name": "stdout",
     "output_type": "stream",
     "text": [
      "Best Score: 0.8129434011476264\n",
      "Best Hyperparameters: {'n_estimators': 500, 'min_samples_split': 8, 'max_features': 8}\n"
     ]
    }
   ],
   "source": [
    "# define the model\n",
    "model = ExtraTreesClassifier()\n",
    "\n",
    "# define evaluation\n",
    "cv = RepeatedStratifiedKFold(n_splits=10, n_repeats=3, random_state=1)\n",
    "\n",
    "# specify parameters and distributions to sample from\n",
    "space = dict(min_samples_split=[6,7,8,9,10,11,12],\n",
    "              max_features=[3,4,5,6,7,8],\n",
    "              n_estimators=[10,50,100,500,750])\n",
    "\n",
    "# define search\n",
    "search = RandomizedSearchCV(model, space, n_iter=10, scoring='accuracy', n_jobs=-1, cv=cv, random_state=1)\n",
    "\n",
    "# execute search\n",
    "result = search.fit(X_train, Y_train)\n",
    "# summarize result\n",
    "print('Best Score: %s' % result.best_score_)\n",
    "print('Best Hyperparameters: %s' % result.best_params_)"
   ]
  },
  {
   "cell_type": "markdown",
   "metadata": {},
   "source": [
    "***\n",
    "# Resultados e interpretación\n",
    "Basado en las pruebas realizadas para seleccionar los mejores valores para los hiperparámetros se encontró lo siguiente para cada algoritmo al evaluar su desempeño base vs ajustado:"
   ]
  },
  {
   "cell_type": "code",
   "execution_count": 16,
   "metadata": {},
   "outputs": [
    {
     "data": {
      "image/png": "[encoded data removed]",
      "text/plain": [
       "<Figure size 432x288 with 1 Axes>"
      ]
     },
     "metadata": {
      "needs_background": "light"
     },
     "output_type": "display_data"
    },
    {
     "name": "stdout",
     "output_type": "stream",
     "text": [
      "Base Accuracy: 0.803 (0.103)\n",
      "Tuned Accuracy: 0.811 (0.100)\n"
     ]
    }
   ],
   "source": [
    "# define the model\n",
    "baseModel = RandomForestClassifier()\n",
    "tunedModel = RandomForestClassifier(max_samples=0.4, max_features=3, n_estimators=750)\n",
    "# evaluate the model\n",
    "cv = RepeatedStratifiedKFold(n_splits=10, n_repeats=3, random_state=1)\n",
    "b_scores = cross_val_score(baseModel, X_test, Y_test, scoring='accuracy', cv=cv, n_jobs=-1, error_score='raise')\n",
    "t_scores = cross_val_score(tunedModel, X_test, Y_test, scoring='accuracy', cv=cv, n_jobs=-1, error_score='raise')\n",
    "scores = [b_scores, t_scores]\n",
    "# report performance\n",
    "plt.boxplot(scores,labels=['Base Model','Fixed Model'],showmeans=True)\n",
    "plt.show()\n",
    "print('Base Accuracy: %.3f (%.3f)' % (mean(b_scores), std(b_scores)))\n",
    "print('Tuned Accuracy: %.3f (%.3f)' % (mean(t_scores), std(t_scores)))"
   ]
  },
  {
   "cell_type": "markdown",
   "metadata": {},
   "source": [
    "* Se obtuvo una mejora de accuracy de: 0.8.3 en modelo sin ajustar a: 0.811 en el modelo ajustado, con un cambio en la desviación estandar de: 0.103  a: 0.100\n",
    "\n",
    "Ahora se procederá a calcular la importancia de cada atributo para la toma de decisiones del modelo:"
   ]
  },
  {
   "cell_type": "code",
   "execution_count": 21,
   "metadata": {},
   "outputs": [
    {
     "name": "stdout",
     "output_type": "stream",
     "text": [
      "Feature: 0, Score: 0.07502\n",
      "Feature: 1, Score: 0.34771\n",
      "Feature: 2, Score: 0.15412\n",
      "Feature: 3, Score: 0.04930\n",
      "Feature: 4, Score: 0.03490\n",
      "Feature: 5, Score: 0.24228\n",
      "Feature: 6, Score: 0.05211\n",
      "Feature: 7, Score: 0.04456\n"
     ]
    },
    {
     "data": {
      "image/png": "[encoded data removed]",
      "text/plain": [
       "<Figure size 432x288 with 1 Axes>"
      ]
     },
     "metadata": {
      "needs_background": "light"
     },
     "output_type": "display_data"
    }
   ],
   "source": [
    "tunedModel = RandomForestClassifier(max_samples=0.4, max_features=3, n_estimators=750)\n",
    "tunedModel.fit(X_test,Y_test)\n",
    "# get importance\n",
    "importance = tunedModel.feature_importances_\n",
    "# summarize feature importance\n",
    "for i,v in enumerate(importance):\n",
    "    print('Feature: %0d, Score: %.5f' % (i,v))\n",
    "# plot feature importance\n",
    "plt.bar([x for x in range(len(importance))], importance)\n",
    "plt.show()"
   ]
  },
  {
   "cell_type": "markdown",
   "metadata": {},
   "source": [
    "* Se puede ver que en el caso del modelo generado con el algoritmo de Random Forest los atributos más relevantes son: Sex, Age y Fare. Sorprendentemente la clase del tiquete no es usada como uno de los predictores más fuertes."
   ]
  },
  {
   "cell_type": "markdown",
   "metadata": {},
   "source": [
    "# Extra Trees"
   ]
  },
  {
   "cell_type": "code",
   "execution_count": 22,
   "metadata": {},
   "outputs": [
    {
     "data": {
      "image/png": "[encoded data removed]",
      "text/plain": [
       "<Figure size 432x288 with 1 Axes>"
      ]
     },
     "metadata": {
      "needs_background": "light"
     },
     "output_type": "display_data"
    },
    {
     "name": "stdout",
     "output_type": "stream",
     "text": [
      "Base Accuracy: 0.798 (0.044)\n",
      "Tuned Accuracy: 0.826 (0.042)\n"
     ]
    }
   ],
   "source": [
    "# define the model\n",
    "baseModel = ExtraTreesClassifier()\n",
    "tunedModel = ExtraTreesClassifier(n_estimators=500, max_features=8, min_samples_split=8)\n",
    "# evaluate the model\n",
    "cv = RepeatedStratifiedKFold(n_splits=10, n_repeats=3, random_state=1)\n",
    "b_scores = cross_val_score(baseModel, inputColumns, outputColumn, scoring='accuracy', cv=cv, n_jobs=-1, error_score='raise')\n",
    "t_scores = cross_val_score(tunedModel, inputColumns, outputColumn, scoring='accuracy', cv=cv, n_jobs=-1, error_score='raise')\n",
    "scores = [b_scores, t_scores]\n",
    "# report performance\n",
    "plt.boxplot(scores,labels=['Base Model','Fixed Model'],showmeans=True)\n",
    "plt.show()\n",
    "print('Base Accuracy: %.3f (%.3f)' % (mean(b_scores), std(b_scores)))\n",
    "print('Tuned Accuracy: %.3f (%.3f)' % (mean(t_scores), std(t_scores)))"
   ]
  },
  {
   "cell_type": "markdown",
   "metadata": {},
   "source": [
    "* Se obtuvo una mejora de accuracy de: 0.798 en modelo sin ajustar a: 0.826 en el modelo ajustado, con un cambio en la desviación estandar de: 0.044  a: 0.042\n",
    "\n",
    "Ahora se procederá a calcular la importancia de cada atributo para la toma de decisiones del modelo:"
   ]
  },
  {
   "cell_type": "code",
   "execution_count": 26,
   "metadata": {},
   "outputs": [
    {
     "name": "stdout",
     "output_type": "stream",
     "text": [
      "Feature: 0, Score: 0.06824\n",
      "Feature: 1, Score: 0.56424\n",
      "Feature: 2, Score: 0.10989\n",
      "Feature: 3, Score: 0.04356\n",
      "Feature: 4, Score: 0.02231\n",
      "Feature: 5, Score: 0.11310\n",
      "Feature: 6, Score: 0.06352\n",
      "Feature: 7, Score: 0.01515\n"
     ]
    },
    {
     "data": {
      "image/png": "[encoded data removed]",
      "text/plain": [
       "<Figure size 432x288 with 1 Axes>"
      ]
     },
     "metadata": {
      "needs_background": "light"
     },
     "output_type": "display_data"
    }
   ],
   "source": [
    "tunedModel = ExtraTreesClassifier(n_estimators=500, max_features=8, min_samples_split=8)\n",
    "tunedModel.fit(X_test,Y_test)\n",
    "# get importance\n",
    "importance = tunedModel.feature_importances_\n",
    "# summarize feature importance\n",
    "for i,v in enumerate(importance):\n",
    "    print('Feature: %0d, Score: %.5f' % (i,v))\n",
    "# plot feature importance\n",
    "plt.bar([x for x in range(len(importance))], importance)\n",
    "plt.show()"
   ]
  },
  {
   "cell_type": "markdown",
   "metadata": {},
   "source": [
    "Se puede ver que en el caso del modelo generado con el algoritmo de Extra Trees los atributos más relevantes son tambíen: Sex, Age y Fare. Sorprendentemente la clase del tiquete tampoco es usada como uno de los predictores más fuertes en este caso."
   ]
  }
 ],
 "metadata": {
  "kernelspec": {
   "display_name": "Python 3",
   "language": "python",
   "name": "python3"
  },
  "language_info": {
   "codemirror_mode": {
    "name": "ipython",
    "version": 3
   },
   "file_extension": ".py",
   "mimetype": "text/x-python",
   "name": "python",
   "nbconvert_exporter": "python",
   "pygments_lexer": "ipython3",
   "version": "3.7.6"
  }
 },
 "nbformat": 4,
 "nbformat_minor": 4
}
