{
 "cells": [
  {
   "cell_type": "markdown",
   "metadata": {},
   "source": [
    "# Comentarios del ejercicio"
   ]
  },
  {
   "cell_type": "markdown",
   "metadata": {},
   "source": [
    "En cursos anteriores se ha hablado de preparación de datos, pero a pesar de que si lo hicimos, nunca se vió tan a fondo como para dividirlo en tipos como lo explica este tutorial. Este proceso desde siempre lo he visto con una importancia muy grande ya que es el primer paso para que los datos que se usaran sean utilez y den un resultado effectivo; con el poco tiempo que llevo trabajando la preparación de los datos ha sido uno de los temas de los que mas se ha hablado."
   ]
  },
  {
   "cell_type": "markdown",
   "metadata": {},
   "source": [
    "La verdad me gustaría ver más ejemplos y saber más de los últimos dos tipos: Rows + Values y Columns + Values, ya que no estoy seguro de haber entendido bien como funciona y con un poco más de información al respecto talvez me quede más claro."
   ]
  },
  {
   "cell_type": "code",
   "execution_count": null,
   "metadata": {},
   "outputs": [],
   "source": []
  }
 ],
 "metadata": {
  "kernelspec": {
   "display_name": "Python 3",
   "language": "python",
   "name": "python3"
  },
  "language_info": {
   "codemirror_mode": {
    "name": "ipython",
    "version": 3
   },
   "file_extension": ".py",
   "mimetype": "text/x-python",
   "name": "python",
   "nbconvert_exporter": "python",
   "pygments_lexer": "ipython3",
   "version": "3.7.6"
  }
 },
 "nbformat": 4,
 "nbformat_minor": 4
}
