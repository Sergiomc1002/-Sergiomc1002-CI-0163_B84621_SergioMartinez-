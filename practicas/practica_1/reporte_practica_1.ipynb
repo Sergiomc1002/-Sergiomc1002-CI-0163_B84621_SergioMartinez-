{
 "cells": [
  {
   "cell_type": "markdown",
   "metadata": {},
   "source": [
    "# Reporte python_basic_1"
   ]
  },
  {
   "cell_type": "markdown",
   "metadata": {},
   "source": [
    "A pesar de haber visto la mayoria de comandos en cursos pasados, creo que nunca \n",
    "habia visto el comando \"describe\" y me parece uno muy importante y útil; pero en\n",
    "general la práctica me ayudo bastane a recordar muchos de los comandos y su \n",
    "funcionalidad."
   ]
  },
  {
   "cell_type": "markdown",
   "metadata": {},
   "source": [
    "# Reporte python_basic_2"
   ]
  },
  {
   "cell_type": "markdown",
   "metadata": {},
   "source": [
    "NumPy es de las librerias que más he trabajado en Python y me sorprende ver \n",
    "como siempre encuentro cosas nuevas, y con esta práctica aprendí unas pequeñas \n",
    "cosas nuevas de esta libreria. Scipy nunca la había escuchado y a decir verdad\n",
    "esto me sorprende por la gran utilidad que se le puede dar a los métodos que \n",
    "contiene para los trabajo que he realizado previamente de manejo de datos, \n",
    "la prácitca me hizo querer aprender mas sobre sus usos."
   ]
  },
  {
   "cell_type": "markdown",
   "metadata": {},
   "source": [
    "# Reporte python_charts"
   ]
  },
  {
   "cell_type": "markdown",
   "metadata": {},
   "source": [
    "Con la mayoría de los charts que he trabajado utilice las funcionalidades que se ven \n",
    "en la práctica, hubo muy pocas nuevas, más que todo parámetros y maneras de estilizar los \n",
    "gráficos."
   ]
  }
 ],
 "metadata": {
  "kernelspec": {
   "display_name": "Python 3",
   "language": "python",
   "name": "python3"
  },
  "language_info": {
   "codemirror_mode": {
    "name": "ipython",
    "version": 3
   },
   "file_extension": ".py",
   "mimetype": "text/x-python",
   "name": "python",
   "nbconvert_exporter": "python",
   "pygments_lexer": "ipython3",
   "version": "3.7.6"
  }
 },
 "nbformat": 4,
 "nbformat_minor": 4
}
