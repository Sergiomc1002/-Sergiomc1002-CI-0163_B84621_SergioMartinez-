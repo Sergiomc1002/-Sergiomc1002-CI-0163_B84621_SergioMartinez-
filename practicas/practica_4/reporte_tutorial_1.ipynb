{
 "cells": [
  {
   "cell_type": "markdown",
   "metadata": {},
   "source": []
  },
  {
   "cell_type": "markdown",
   "metadata": {},
   "source": [
    "# Reporte"
   ]
  },
  {
   "cell_type": "markdown",
   "metadata": {},
   "source": [
    "La verdad todo lo que se habló en este tutorial fue basicamente nuevo para mí, y despertó mucha curiosidad, tanto que me llevó a buscar varios videos donde se ilustrara un poco mejor los metodos de featured selection porque solo leerlos no es suficiente para mí. Viendo proyectos antiguos donde he usado Machine Learning, tal vez se usaron estos métodos (principalmente Filter Methods) pero no sabía que habían más y que tenían nombre. Claramente es un procesos indispensable que ayuda demasiado en el desempeño y la viabilidad del uso de algoritmos con Machine Learning y me gustaría mucho ver aplicado los otros métodos. "
   ]
  },
  {
   "cell_type": "markdown",
   "metadata": {},
   "source": [
    "Pienso que la próxima vez que necesite usar un algortimo de Machine Learning, prestaré especial cuidado a esta parte del procedimiento ya que me puedo ahorrar demasiado tiempos y recursos con tan solo aplicar alguuno de estos métodos de Featured Selection."
   ]
  },
  {
   "cell_type": "markdown",
   "metadata": {},
   "source": [
    "Como dije anteriormente, me gustaría ver más ejemplos o tal vez ponerlo yo en práctica para saber más a fondo sobre cada uno de los métodos que se pueden utilizar."
   ]
  }
 ],
 "metadata": {
  "kernelspec": {
   "display_name": "Python 3",
   "language": "python",
   "name": "python3"
  },
  "language_info": {
   "name": ""
  }
 },
 "nbformat": 4,
 "nbformat_minor": 4
}
